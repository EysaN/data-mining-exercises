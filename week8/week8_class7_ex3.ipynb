{
 "cells": [
  {
   "cell_type": "code",
   "execution_count": 1,
   "id": "a2019825",
   "metadata": {},
   "outputs": [],
   "source": [
    "import pandas as pd\n",
    "import numpy as np\n",
    "from scipy import stats\n",
    "import matplotlib.pyplot as plt \n",
    "import seaborn as sns"
   ]
  },
  {
   "cell_type": "code",
   "execution_count": 2,
   "id": "e85a5b00",
   "metadata": {},
   "outputs": [
    {
     "name": "stdout",
     "output_type": "stream",
     "text": [
      "before cleaning\n",
      "               age       salary\n",
      "count  1000.000000  1000.000000\n",
      "mean     41.155000   181.969000\n",
      "std      13.462995    70.424382\n",
      "min      18.000000     4.000000\n",
      "25%      30.000000   129.000000\n",
      "50%      41.000000   185.000000\n",
      "75%      53.000000   241.000000\n",
      "max      64.000000   299.000000\n",
      "after cleaning\n",
      "              age      salary\n",
      "count  912.000000  912.000000\n",
      "mean    41.209430  181.817982\n",
      "std     13.461862   70.037702\n",
      "min     18.000000    4.000000\n",
      "25%     30.000000  129.000000\n",
      "50%     42.000000  185.500000\n",
      "75%     53.000000  241.000000\n",
      "max     64.000000  299.000000\n"
     ]
    }
   ],
   "source": [
    "# Reading dataset\n",
    "df = pd.read_csv(\"employee_data2.csv\")\n",
    "# describe the dataset before cleaning\n",
    "print(\"before cleaning\")\n",
    "print(df.describe())\n",
    "# cleaning the data\n",
    "df.drop_duplicates(inplace=True)\n",
    "median = df['salary'].median()\n",
    "df['salary'].fillna(median, inplace=True)\n",
    "median = df['age'].median()\n",
    "df['age'].fillna(median, inplace=True)\n",
    "# after cleaning\n",
    "print(\"after cleaning\")\n",
    "print(df.describe())\n",
    "# reset the index after data cleaning \n",
    "# because one-hot encoding maps values by index\n",
    "df.reset_index(inplace=True, drop=True)"
   ]
  },
  {
   "cell_type": "code",
   "execution_count": 3,
   "id": "53e49d30",
   "metadata": {},
   "outputs": [
    {
     "name": "stdout",
     "output_type": "stream",
     "text": [
      "<class 'pandas.core.frame.DataFrame'>\n",
      "RangeIndex: 912 entries, 0 to 911\n",
      "Data columns (total 5 columns):\n",
      " #   Column      Non-Null Count  Dtype   \n",
      "---  ------      --------------  -----   \n",
      " 0   gender      912 non-null    object  \n",
      " 1   age         912 non-null    int64   \n",
      " 2   education   912 non-null    object  \n",
      " 3   salary      912 non-null    int64   \n",
      " 4   age_ranges  912 non-null    category\n",
      "dtypes: category(1), int64(2), object(2)\n",
      "memory usage: 29.6+ KB\n",
      "None\n",
      "                  age      salary\n",
      "age_ranges                       \n",
      "young       24.170040   98.356275\n",
      "adult       42.047085  186.531390\n",
      "old         58.721461  266.351598\n",
      "              age      salary\n",
      "gender                       \n",
      "female  41.111588  181.251073\n",
      "male    41.311659  182.410314\n",
      "                      age      salary\n",
      "education                            \n",
      "Assistant Prof  42.517241  222.922414\n",
      "Associate Prof  59.357513  274.932642\n",
      "Bacholar        20.967033   75.780220\n",
      "Master          29.336364  125.695455\n",
      "PhD             36.940476  173.785714\n",
      "Prof            50.010695  199.149733\n",
      "School          18.000000   24.238095\n"
     ]
    }
   ],
   "source": [
    "# adding a new column for age ranges\n",
    "q_1 = df['age'].quantile(q=0.25) # 30\n",
    "q_3 = df['age'].quantile(q=0.75) # 53\n",
    "q_4 = df['age'].max() # 64\n",
    "df['age_ranges'] = pd.cut(x=df['age'], bins=[0, q_1, q_3, q_4], labels=['young', 'adult', 'old'])\n",
    "print(df.info())\n",
    "print(df.groupby(['age_ranges']).mean())\n",
    "print(df.groupby(['gender']).mean())\n",
    "print(df.groupby(['education']).mean())"
   ]
  },
  {
   "cell_type": "code",
   "execution_count": 4,
   "id": "9d38d636",
   "metadata": {},
   "outputs": [
    {
     "name": "stdout",
     "output_type": "stream",
     "text": [
      "[4 1 1 3 3 0 5 0 5 3 5 0 0 5 5 1 3 0 5 3 1 3 1 1 5 1 1 4 1 2 1 5 1 6 3 1 5\n",
      " 2 4 1 5 1 1 0 0 0 3 0 0 5 3 3 3 6 1 0 1 5 2 0 1 1 2 4 0 0 3 0 2 3 1 3 2 5\n",
      " 3 3 1 2 1 5 3 2 1 5 4 1 5 3 1 1 1 3 3 3 5 0 3 3 1 2 0 1 4 4 1 5 1 5 3 5 3\n",
      " 5 0 0 5 5 3 3 2 5 4 3 3 1 0 1 4 6 1 2 1 1 0 2 2 0 5 0 3 0 4 1 3 3 5 4 0 0\n",
      " 5 1 1 5 5 3 2 5 0 3 3 5 3 3 4 3 4 5 1 1 5 3 1 2 4 2 3 0 5 4 3 5 1 3 4 2 2\n",
      " 5 3 3 0 0 4 3 1 6 5 3 5 6 0 5 4 1 3 2 1 2 4 4 2 2 5 3 1 6 5 4 4 5 1 2 3 0\n",
      " 5 3 3 5 0 1 5 3 1 1 1 5 5 1 0 5 3 1 1 1 3 1 1 4 3 3 6 3 1 3 0 5 1 0 1 2 3\n",
      " 3 5 1 1 4 5 1 2 0 3 1 5 0 1 5 5 5 5 4 6 0 3 2 3 0 2 4 0 4 5 5 0 3 0 2 2 4\n",
      " 5 5 4 3 4 5 2 0 1 0 2 3 3 2 1 1 2 0 5 1 3 2 5 4 1 1 1 1 2 1 5 1 1 3 5 4 1\n",
      " 3 0 5 1 1 3 2 5 4 1 1 5 1 3 3 5 1 3 3 1 0 3 5 1 1 5 2 3 1 5 2 5 1 5 0 3 5\n",
      " 1 0 3 2 1 3 5 5 1 1 1 0 5 6 1 4 1 5 6 3 2 3 0 2 3 6 3 0 0 5 4 5 3 1 2 1 5\n",
      " 3 1 5 1 3 0 3 3 5 2 2 5 3 3 5 1 3 1 1 0 1 5 1 3 1 3 5 3 3 6 1 1 3 1 2 3 4\n",
      " 2 5 3 4 5 4 2 1 4 6 5 1 5 2 5 2 0 3 2 3 1 4 3 3 5 0 1 1 3 5 5 4 1 4 0 2 3\n",
      " 0 5 0 1 3 2 2 5 4 2 3 3 0 2 1 0 5 3 0 0 1 2 2 3 3 2 1 3 5 5 5 1 1 5 4 3 5\n",
      " 3 2 6 1 5 2 3 2 1 3 3 5 6 1 3 2 4 0 4 4 4 5 5 3 3 2 2 3 5 5 5 5 3 4 3 3 3\n",
      " 0 1 1 3 0 5 5 1 1 2 2 3 2 3 3 5 0 3 0 0 5 0 1 5 5 3 1 3 3 5 5 3 4 1 5 4 1\n",
      " 4 3 3 3 0 5 1 5 0 4 0 0 0 0 1 3 1 1 2 5 0 2 3 3 5 4 1 5 5 1 3 1 4 5 5 5 5\n",
      " 3 5 5 5 0 3 3 2 2 1 3 2 0 0 3 1 3 0 1 3 5 0 3 1 3 1 1 3 1 3 3 0 1 3 3 2 5\n",
      " 5 5 1 3 5 5 4 1 3 5 5 5 5 3 4 3 3 2 3 3 2 0 3 5 1 3 3 5 1 4 4 5 0 2 4 5 4\n",
      " 0 0 1 2 3 5 5 5 1 3 5 4 2 4 3 3 1 5 3 3 2 1 4 4 6 4 1 3 3 4 5 0 6 0 0 0 0\n",
      " 3 5 0 1 4 1 4 5 5 3 1 6 0 4 5 3 5 4 1 4 0 1 1 5 1 3 3 5 3 3 5 1 0 5 5 1 4\n",
      " 0 0 1 3 3 3 1 0 6 5 3 1 4 0 5 3 4 2 0 3 3 1 5 2 5 1 1 0 0 2 2 6 5 0 3 3 3\n",
      " 3 0 3 5 3 3 3 4 3 1 5 1 3 3 1 5 4 3 3 5 4 3 4 2 3 1 2 0 2 4 3 3 1 0 2 3 1\n",
      " 1 3 1 0 4 1 3 5 5 3 3 5 3 5 0 5 5 3 3 1 0 1 4 1 3 2 1 3 1 5 5 1 0 3 1 4 0\n",
      " 3 1 5 1 0 2 1 6 1 5 3 5 3 5 0 2 4 3 5 3 2 5 1 1]\n"
     ]
    },
    {
     "data": {
      "text/html": [
       "<div>\n",
       "<style scoped>\n",
       "    .dataframe tbody tr th:only-of-type {\n",
       "        vertical-align: middle;\n",
       "    }\n",
       "\n",
       "    .dataframe tbody tr th {\n",
       "        vertical-align: top;\n",
       "    }\n",
       "\n",
       "    .dataframe thead th {\n",
       "        text-align: right;\n",
       "    }\n",
       "</style>\n",
       "<table border=\"1\" class=\"dataframe\">\n",
       "  <thead>\n",
       "    <tr style=\"text-align: right;\">\n",
       "      <th></th>\n",
       "      <th>gender</th>\n",
       "      <th>age</th>\n",
       "      <th>education</th>\n",
       "      <th>salary</th>\n",
       "      <th>age_ranges</th>\n",
       "    </tr>\n",
       "  </thead>\n",
       "  <tbody>\n",
       "    <tr>\n",
       "      <th>0</th>\n",
       "      <td>male</td>\n",
       "      <td>36</td>\n",
       "      <td>4</td>\n",
       "      <td>165</td>\n",
       "      <td>adult</td>\n",
       "    </tr>\n",
       "    <tr>\n",
       "      <th>1</th>\n",
       "      <td>male</td>\n",
       "      <td>55</td>\n",
       "      <td>1</td>\n",
       "      <td>279</td>\n",
       "      <td>old</td>\n",
       "    </tr>\n",
       "    <tr>\n",
       "      <th>2</th>\n",
       "      <td>male</td>\n",
       "      <td>61</td>\n",
       "      <td>1</td>\n",
       "      <td>288</td>\n",
       "      <td>old</td>\n",
       "    </tr>\n",
       "    <tr>\n",
       "      <th>3</th>\n",
       "      <td>female</td>\n",
       "      <td>29</td>\n",
       "      <td>3</td>\n",
       "      <td>135</td>\n",
       "      <td>young</td>\n",
       "    </tr>\n",
       "    <tr>\n",
       "      <th>4</th>\n",
       "      <td>female</td>\n",
       "      <td>34</td>\n",
       "      <td>3</td>\n",
       "      <td>146</td>\n",
       "      <td>adult</td>\n",
       "    </tr>\n",
       "  </tbody>\n",
       "</table>\n",
       "</div>"
      ],
      "text/plain": [
       "   gender  age  education  salary age_ranges\n",
       "0    male   36          4     165      adult\n",
       "1    male   55          1     279        old\n",
       "2    male   61          1     288        old\n",
       "3  female   29          3     135      young\n",
       "4  female   34          3     146      adult"
      ]
     },
     "execution_count": 4,
     "metadata": {},
     "output_type": "execute_result"
    }
   ],
   "source": [
    "# since the number of categories in education column is large\n",
    "# we will apply label encoding \n",
    "\n",
    "from sklearn.preprocessing import LabelEncoder\n",
    "label_encoder = LabelEncoder()\n",
    "integer_encoded = label_encoder.fit_transform(df['education'])\n",
    "print(integer_encoded)\n",
    "\n",
    "df[\"education\"].replace(to_replace=df[\"education\"].tolist(), value=integer_encoded, inplace = True)\n",
    "df.head()"
   ]
  },
  {
   "cell_type": "code",
   "execution_count": 5,
   "id": "91afb034",
   "metadata": {},
   "outputs": [
    {
     "name": "stdout",
     "output_type": "stream",
     "text": [
      "     age  education  salary age_ranges  male\n",
      "0     36          4     165      adult   1.0\n",
      "1     55          1     279        old   1.0\n",
      "2     61          1     288        old   1.0\n",
      "3     29          3     135      young   0.0\n",
      "4     34          3     146      adult   0.0\n",
      "..   ...        ...     ...        ...   ...\n",
      "907   33          3     117      adult   0.0\n",
      "908   21          2      51      young   0.0\n",
      "909   49          5     192      adult   0.0\n",
      "910   56          1     270        old   1.0\n",
      "911   64          1     255        old   0.0\n",
      "\n",
      "[912 rows x 5 columns]\n"
     ]
    }
   ],
   "source": [
    "# then we will apply one-hot encoding on gender column\n",
    "gender_encoded = label_encoder.fit_transform(df['gender'])\n",
    "gender_reshaped = gender_encoded.reshape(len(gender_encoded), 1)\n",
    "\n",
    "from sklearn.preprocessing import OneHotEncoder\n",
    "onehot_encoder = OneHotEncoder(sparse=False, handle_unknown='error', drop='first', categories='auto')\n",
    "gender_onehot_encoded = onehot_encoder.fit_transform(gender_reshaped)\n",
    "\n",
    "gender_ohe_df = pd.DataFrame(gender_onehot_encoded)\n",
    "df = df.join(gender_ohe_df)\n",
    "df = df.rename({0: \"male\"}, axis=1)\n",
    "df.drop(columns=['gender'], inplace=True)\n",
    "print(df)"
   ]
  },
  {
   "cell_type": "code",
   "execution_count": 6,
   "id": "a9c785ff",
   "metadata": {},
   "outputs": [
    {
     "name": "stdout",
     "output_type": "stream",
     "text": [
      "     age  education  salary  male  age_ordinal\n",
      "0     36          4     165   1.0            2\n",
      "1     55          1     279   1.0            3\n",
      "2     61          1     288   1.0            3\n",
      "3     29          3     135   0.0            1\n",
      "4     34          3     146   0.0            2\n",
      "..   ...        ...     ...   ...          ...\n",
      "907   33          3     117   0.0            2\n",
      "908   21          2      51   0.0            1\n",
      "909   49          5     192   0.0            2\n",
      "910   56          1     270   1.0            3\n",
      "911   64          1     255   0.0            3\n",
      "\n",
      "[912 rows x 5 columns]\n"
     ]
    }
   ],
   "source": [
    "# then we apply ordinal encoding on the age_ranges column \n",
    "age_ranges_dict = {'young': 1, 'adult': 2, 'old': 3}\n",
    "# setting the new column as int64 to make show in the heatmap below\n",
    "df['age_ordinal'] = df.age_ranges.map(age_ranges_dict).astype('int64')\n",
    "df.drop(columns=['age_ranges'], inplace=True)\n",
    "print(df)"
   ]
  },
  {
   "cell_type": "code",
   "execution_count": 7,
   "id": "67281c3b",
   "metadata": {},
   "outputs": [
    {
     "name": "stdout",
     "output_type": "stream",
     "text": [
      "                  age  education    salary      male  age_ordinal\n",
      "age          1.000000  -0.191985  0.911063  0.007433     0.917928\n",
      "education   -0.191985   1.000000 -0.397876 -0.042778    -0.275005\n",
      "salary       0.911063  -0.397876  1.000000  0.008278     0.858230\n",
      "male         0.007433  -0.042778  0.008278  1.000000     0.017486\n",
      "age_ordinal  0.917928  -0.275005  0.858230  0.017486     1.000000\n"
     ]
    },
    {
     "data": {
      "image/png": "[encoded data removed]",
      "text/plain": [
       "<Figure size 432x288 with 2 Axes>"
      ]
     },
     "metadata": {},
     "output_type": "display_data"
    }
   ],
   "source": [
    "# set the general style of the plots\n",
    "sns.set(style='white', context='paper', palette='deep')\n",
    "# print the Correlation matrix\n",
    "corr_matrix = df.corr()\n",
    "print(corr_matrix)\n",
    "# Visualizing correlation matrix\n",
    "sns.heatmap(corr_matrix, annot=True)\n",
    "plt.show()"
   ]
  },
  {
   "cell_type": "code",
   "execution_count": 8,
   "id": "3d5ff08c",
   "metadata": {},
   "outputs": [
    {
     "name": "stdout",
     "output_type": "stream",
     "text": [
      "Correlation between salary and age_ordinal: 0.86\n",
      "Independent t-test 0: 77.54435639277493 0.0\n"
     ]
    }
   ],
   "source": [
    "# print the correlation coefficient from the matrix\n",
    "corr_coef = np.corrcoef(df[\"salary\"], df[\"age_ordinal\"])[0, 1]\n",
    "print(\"Correlation between salary and age_ordinal:\", round(corr_coef, 2))\n",
    "\n",
    "# with t-test we check if the mean of the two groups are truly different\n",
    "ttest, pval = stats.ttest_ind(df[\"salary\"], df[\"age_ordinal\"])\n",
    "print(\"Independent t-test 0:\", ttest, pval)"
   ]
  },
  {
   "cell_type": "code",
   "execution_count": 9,
   "id": "1e0eb96f",
   "metadata": {},
   "outputs": [
    {
     "data": {
      "text/plain": [
       "Text(0.5, 1.0, 'Independent T-Test')"
      ]
     },
     "execution_count": 9,
     "metadata": {},
     "output_type": "execute_result"
    },
    {
     "data": {
      "image/png": "[encoded data removed]",
      "text/plain": [
       "<Figure size 432x288 with 1 Axes>"
      ]
     },
     "metadata": {},
     "output_type": "display_data"
    }
   ],
   "source": [
    "sns.kdeplot(df[\"age_ordinal\"], shade=True)\n",
    "sns.kdeplot(df[\"salary\"], shade=True)\n",
    "plt.title(\"Independent T-Test\")"
   ]
  },
  {
   "cell_type": "code",
   "execution_count": 10,
   "id": "8a247f62",
   "metadata": {},
   "outputs": [
    {
     "data": {
      "image/png": "[encoded data removed]",
      "text/plain": [
       "<Figure size 432x288 with 1 Axes>"
      ]
     },
     "metadata": {},
     "output_type": "display_data"
    }
   ],
   "source": [
    "#Boxplot graph of all columns\n",
    "df.plot(kind='box')\n",
    "plt.show()"
   ]
  },
  {
   "cell_type": "code",
   "execution_count": 11,
   "id": "47cb8d63",
   "metadata": {},
   "outputs": [
    {
     "data": {
      "image/png": "[encoded data removed]",
      "text/plain": [
       "<Figure size 432x288 with 1 Axes>"
      ]
     },
     "metadata": {},
     "output_type": "display_data"
    },
    {
     "data": {
      "image/png": "[encoded data removed]",
      "text/plain": [
       "<Figure size 432x288 with 1 Axes>"
      ]
     },
     "metadata": {},
     "output_type": "display_data"
    }
   ],
   "source": [
    "#Distribution of data in each class\n",
    "cals_ord = df[\"age_ordinal\"]\n",
    "durs = df[\"salary\"]\n",
    "\n",
    "ax = sns.boxplot(data=cals_ord, orient=\"h\", palette=\"Set2\")\n",
    "plt.show()\n",
    "ax = sns.boxplot(data=durs, orient=\"h\", palette=\"flare\")\n",
    "plt.show()"
   ]
  },
  {
   "cell_type": "code",
   "execution_count": 12,
   "id": "d3d0000f",
   "metadata": {},
   "outputs": [
    {
     "data": {
      "image/png": "[encoded data removed]",
      "text/plain": [
       "<Figure size 432x432 with 3 Axes>"
      ]
     },
     "metadata": {},
     "output_type": "display_data"
    }
   ],
   "source": [
    "#Analysing correlation between Calories and Duration\n",
    "sns.jointplot(kind=\"reg\", x=\"age_ordinal\", y=\"salary\", data=df)\n",
    "plt.show()"
   ]
  },
  {
   "cell_type": "code",
   "execution_count": null,
   "id": "d1cf42f6",
   "metadata": {},
   "outputs": [],
   "source": []
  }
 ],
 "metadata": {
  "kernelspec": {
   "display_name": "Python 3",
   "language": "python",
   "name": "python3"
  },
  "language_info": {
   "codemirror_mode": {
    "name": "ipython",
    "version": 3
   },
   "file_extension": ".py",
   "mimetype": "text/x-python",
   "name": "python",
   "nbconvert_exporter": "python",
   "pygments_lexer": "ipython3",
   "version": "3.8.8"
  }
 },
 "nbformat": 4,
 "nbformat_minor": 5
}
